{
 "cells": [
  {
   "cell_type": "markdown",
   "metadata": {},
   "source": [
    "# Income"
   ]
  },
  {
   "cell_type": "code",
   "execution_count": null,
   "metadata": {},
   "outputs": [],
   "source": [
    "import csv\n",
    "import pandas as pd\n",
    "\n",
    "df = pd.read_csv(\"Income.csv\", sep=\",\")\n",
    "\n",
    "df[\"Proportion with wage or salary\"]= df[\"Estimate; Total: - With wage or salary income\"]/df[\"Estimate; Total:\"]\n",
    "\n",
    "df_sort= df.sort_values(\"Proportion with wage or salary\", ascending=False)\n",
    "\n",
    "df_sort.iloc[:20].plot.bar(x='Neighborhood', y='Proportion with wage or salary')\n",
    "\n",
    "\n",
    "\n",
    "df_sort.head(12)"
   ]
  },
  {
   "cell_type": "code",
   "execution_count": null,
   "metadata": {},
   "outputs": [],
   "source": []
  }
 ],
 "metadata": {
  "kernelspec": {
   "display_name": "Python 3",
   "language": "python",
   "name": "python3"
  },
  "language_info": {
   "codemirror_mode": {
    "name": "ipython",
    "version": 3
   },
   "file_extension": ".py",
   "mimetype": "text/x-python",
   "name": "python",
   "nbconvert_exporter": "python",
   "pygments_lexer": "ipython3",
   "version": "3.8.3"
  }
 },
 "nbformat": 4,
 "nbformat_minor": 4
}
